{
 "cells": [
  {
   "cell_type": "code",
   "execution_count": 6,
   "metadata": {},
   "outputs": [
    {
     "name": "stdout",
     "output_type": "stream",
     "text": [
      "F1 Scores for each class:\n",
      "admiration: 0.8117\n",
      "amusement: 0.8553\n",
      "gratitude: 0.9226\n",
      "love: 0.8120\n",
      "pride: 0.6087\n",
      "relief: 0.1000\n",
      "remorse: 0.8661\n",
      "\n",
      "Average F1 Score: 0.7109\n"
     ]
    }
   ],
   "source": [
    "import pandas as pd\n",
    "from sklearn.metrics import f1_score\n",
    "\n",
    "# Load the files\n",
    "submission_path = 'submission.csv'  # Update with your file path if necessary\n",
    "dev_path = 'dev.csv'  # Update with your file path if necessary\n",
    "\n",
    "submission = pd.read_csv(submission_path)\n",
    "dev = pd.read_csv(dev_path)\n",
    "\n",
    "# Extract true labels and predictions\n",
    "true_labels = dev.drop(columns=[\"text\"]).values\n",
    "predictions = submission.drop(columns=[\"text\"]).values\n",
    "\n",
    "# Calculate F1 score for each class\n",
    "f1_scores = {}\n",
    "classes = dev.columns[1:]  # Exclude 'text' column\n",
    "\n",
    "for i, class_name in enumerate(classes):\n",
    "    f1_scores[class_name] = f1_score(true_labels[:, i], predictions[:, i], zero_division=1)\n",
    "\n",
    "# Calculate the average F1 score\n",
    "average_f1_score = sum(f1_scores.values()) / len(f1_scores)\n",
    "\n",
    "# Print the results\n",
    "print(\"F1 Scores for each class:\")\n",
    "for class_name, score in f1_scores.items():\n",
    "    print(f\"{class_name}: {score:.4f}\")\n",
    "\n",
    "print(f\"\\nAverage F1 Score: {average_f1_score:.4f}\")\n"
   ]
  },
  {
   "cell_type": "code",
   "execution_count": null,
   "metadata": {},
   "outputs": [],
   "source": []
  }
 ],
 "metadata": {
  "kernelspec": {
   "display_name": ".venv",
   "language": "python",
   "name": "python3"
  },
  "language_info": {
   "codemirror_mode": {
    "name": "ipython",
    "version": 3
   },
   "file_extension": ".py",
   "mimetype": "text/x-python",
   "name": "python",
   "nbconvert_exporter": "python",
   "pygments_lexer": "ipython3",
   "version": "3.12.2"
  }
 },
 "nbformat": 4,
 "nbformat_minor": 2
}
